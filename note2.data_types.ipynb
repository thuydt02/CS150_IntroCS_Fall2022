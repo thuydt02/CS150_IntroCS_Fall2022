{
 "cells": [
  {
   "cell_type": "markdown",
   "id": "1a0a6cc8-e5e7-4b81-9847-72926b911c67",
   "metadata": {},
   "source": [
    "<b><font size = 20> Data Types </font></b>"
   ]
  },
  {
   "cell_type": "markdown",
   "id": "6ae4877e-b00f-4680-9e6f-ac4d01d40885",
   "metadata": {},
   "source": [
    "A data type specifies the internal representation of the data and avaiable operations.<br>\n",
    "We can get data types of values or variables, or objects"
   ]
  },
  {
   "cell_type": "code",
   "execution_count": 3,
   "id": "85af0e37-6104-45c2-83d8-fd2d4560abc8",
   "metadata": {},
   "outputs": [
    {
     "data": {
      "text/plain": [
       "int"
      ]
     },
     "execution_count": 3,
     "metadata": {},
     "output_type": "execute_result"
    }
   ],
   "source": [
    "type(100)"
   ]
  },
  {
   "cell_type": "code",
   "execution_count": 4,
   "id": "c530d7e8-e231-4e7f-b2f4-f6f5f8150e95",
   "metadata": {},
   "outputs": [
    {
     "data": {
      "text/plain": [
       "float"
      ]
     },
     "execution_count": 4,
     "metadata": {},
     "output_type": "execute_result"
    }
   ],
   "source": [
    "type(100.0)"
   ]
  },
  {
   "cell_type": "code",
   "execution_count": 5,
   "id": "31823ccb-fb5a-4cb3-a28c-b18556c0d6e0",
   "metadata": {},
   "outputs": [
    {
     "data": {
      "text/plain": [
       "str"
      ]
     },
     "execution_count": 5,
     "metadata": {},
     "output_type": "execute_result"
    }
   ],
   "source": [
    "s = 'abc123'\n",
    "type(s)"
   ]
  },
  {
   "cell_type": "code",
   "execution_count": 6,
   "id": "f42c843a-518d-4235-92bc-b85bca2ff678",
   "metadata": {},
   "outputs": [
    {
     "data": {
      "text/plain": [
       "float"
      ]
     },
     "execution_count": 6,
     "metadata": {},
     "output_type": "execute_result"
    }
   ],
   "source": [
    "x, y = 1, 2.0 \n",
    "type(x + y)"
   ]
  },
  {
   "cell_type": "code",
   "execution_count": 8,
   "id": "2fc81824-de52-41f8-ba5f-3bab43d9c3be",
   "metadata": {},
   "outputs": [
    {
     "data": {
      "text/plain": [
       "builtin_function_or_method"
      ]
     },
     "execution_count": 8,
     "metadata": {},
     "output_type": "execute_result"
    }
   ],
   "source": [
    "type(print)"
   ]
  },
  {
   "cell_type": "code",
   "execution_count": 9,
   "id": "90d1b0bf-493c-4434-ae39-ee6e5682df30",
   "metadata": {},
   "outputs": [
    {
     "name": "stdout",
     "output_type": "stream",
     "text": [
      "abc123\n"
     ]
    },
    {
     "data": {
      "text/plain": [
       "NoneType"
      ]
     },
     "execution_count": 9,
     "metadata": {},
     "output_type": "execute_result"
    }
   ],
   "source": [
    "type(print(\"abc123\"))"
   ]
  },
  {
   "cell_type": "markdown",
   "id": "6254da96-72fb-43b7-ad35-ff519d4dc542",
   "metadata": {},
   "source": [
    "your turn:<br>\n",
    "1. get data type of the value True<br>\n",
    "2. get data type of this expression x==y<br>\n",
    "3. why type(print(\"abc123\")) = NoneType?"
   ]
  },
  {
   "cell_type": "code",
   "execution_count": 11,
   "id": "5a94ad39-c084-4393-b25e-81d1d9904663",
   "metadata": {},
   "outputs": [],
   "source": [
    "#put your code here"
   ]
  },
  {
   "cell_type": "markdown",
   "id": "bdf05215-9ca4-4213-8c64-457f01c77f31",
   "metadata": {},
   "source": [
    "We can convert values from one type to another"
   ]
  },
  {
   "cell_type": "code",
   "execution_count": 12,
   "id": "35d75f85-3175-43d1-8cc2-b83db79bce79",
   "metadata": {},
   "outputs": [
    {
     "name": "stdout",
     "output_type": "stream",
     "text": [
      "x:  5.0\n",
      "y:  123\n"
     ]
    }
   ],
   "source": [
    "# convert int to float and vice versa\n",
    "\n",
    "x = float(5)\n",
    "print(\"x: \", x)\n",
    "\n",
    "y = int(123.456)\n",
    "print(\"y: \", y)"
   ]
  },
  {
   "cell_type": "code",
   "execution_count": 21,
   "id": "fa9cd0c0-19ad-451e-8840-54824a78dcbe",
   "metadata": {},
   "outputs": [
    {
     "name": "stdout",
     "output_type": "stream",
     "text": [
      "convert strings to numbers\n",
      "x + y:  246.5\n",
      "\n",
      "convert numbers to strings\n",
      "st1 + st2:  123123.5\n"
     ]
    }
   ],
   "source": [
    "#convert numbers to strings and vice versa\n",
    "\n",
    "print('convert strings to numbers')\n",
    "x = int('123')\n",
    "y = float('123.5')\n",
    "print('x + y: ', x+y)\n",
    "\n",
    "print('\\nconvert numbers to strings')\n",
    "st1 = str(123)\n",
    "st2 = str(123.5)\n",
    "print('st1 + st2: ', st1+ st2)\n"
   ]
  },
  {
   "cell_type": "markdown",
   "id": "ea486e10-2567-4d6e-a704-fbf667a62b0d",
   "metadata": {},
   "source": [
    "your turn:<br>\n",
    "1. compute the value of 123 + 'abc'\n",
    "2. compute the value of $x^y$ where x = 2 and y = '10' "
   ]
  },
  {
   "cell_type": "code",
   "execution_count": null,
   "id": "4ffb7b9e-756b-43cd-a042-7ca617328cb9",
   "metadata": {},
   "outputs": [],
   "source": [
    "#put your code here"
   ]
  }
 ],
 "metadata": {
  "kernelspec": {
   "display_name": "Python 3 (ipykernel)",
   "language": "python",
   "name": "python3"
  },
  "language_info": {
   "codemirror_mode": {
    "name": "ipython",
    "version": 3
   },
   "file_extension": ".py",
   "mimetype": "text/x-python",
   "name": "python",
   "nbconvert_exporter": "python",
   "pygments_lexer": "ipython3",
   "version": "3.9.12"
  }
 },
 "nbformat": 4,
 "nbformat_minor": 5
}
