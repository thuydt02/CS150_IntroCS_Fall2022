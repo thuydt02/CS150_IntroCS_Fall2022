{
 "cells": [
  {
   "cell_type": "markdown",
   "id": "e4d2d278-53fe-4ac0-bd65-977387cfe0a1",
   "metadata": {},
   "source": [
    "<b><font size = 20>Variables</font></b>"
   ]
  },
  {
   "cell_type": "markdown",
   "id": "cb598bd9-a9f7-4b85-82a1-e80af745a9d2",
   "metadata": {},
   "source": [
    "We will create 2 variables, namely x and y, and assign value 5 to x, value 10 to y.\n",
    "You can assign other values to x and y "
   ]
  },
  {
   "cell_type": "code",
   "execution_count": 2,
   "id": "cabf35c0-ec0f-4cf4-806a-71986a8f5c1a",
   "metadata": {},
   "outputs": [
    {
     "name": "stdout",
     "output_type": "stream",
     "text": [
      "x:  5\n",
      "y:  10\n"
     ]
    }
   ],
   "source": [
    "x = 5\n",
    "y = 10\n",
    "print(\"x: \", x)\n",
    "print(\"y: \", y)"
   ]
  },
  {
   "cell_type": "markdown",
   "id": "718b5936-0a2a-4248-84e7-0d88b110c917",
   "metadata": {},
   "source": [
    "The values stored in x and y can be changed.\n",
    "Now we change these values by adding 5 to x and subtracting 5 from y"
   ]
  },
  {
   "cell_type": "code",
   "execution_count": 3,
   "id": "360f52f9-b620-4b46-88c6-e152e0f768b9",
   "metadata": {},
   "outputs": [
    {
     "name": "stdout",
     "output_type": "stream",
     "text": [
      "x:  10\n",
      "y:  5\n"
     ]
    }
   ],
   "source": [
    "x = x + 5\n",
    "y = y - 5\n",
    "print(\"x: \", x)\n",
    "print(\"y: \", y)"
   ]
  },
  {
   "cell_type": "markdown",
   "id": "b457386e-37b2-42d4-999e-6b228fc24463",
   "metadata": {},
   "source": [
    "Your turn:<br>\n",
    "1. create 2 variables, namely pi and rad with vaules 3.14 and 5 respectively <br>\n",
    "2. compute the area of a cirle with radius rad, store the area in a varible, say s <br>\n",
    "3. print out the value in s to the screen<br>\n",
    "[solution: value of s is 78.5]    "
   ]
  },
  {
   "cell_type": "code",
   "execution_count": 8,
   "id": "afb2b9d9-ebe4-41be-8e46-e0d1d058de74",
   "metadata": {},
   "outputs": [],
   "source": [
    "#put your code in this cell\n"
   ]
  },
  {
   "cell_type": "markdown",
   "id": "d91fd3d7-3ccb-4bbd-a07f-f71f68d2c153",
   "metadata": {},
   "source": [
    "In arithmetic, the remainder is the integer \"left over\" after dividing one integer by another to produce an integer quotient (integer division).<br>\n",
    "For example, the remainder after dividing 7 by 2 is 1. Here, the quotient is 3 <br>\n",
    "Now, we will compute the remainder after dividing x by y<br>\n",
    "Note: use operator %, a % b = the remainder after dividing a by b"
   ]
  },
  {
   "cell_type": "code",
   "execution_count": 9,
   "id": "13d03e1d-7247-4609-b4ad-ca193d3b9b85",
   "metadata": {},
   "outputs": [
    {
     "name": "stdout",
     "output_type": "stream",
     "text": [
      "remainder:  0\n"
     ]
    }
   ],
   "source": [
    "remainder = x % y\n",
    "print(\"remainder: \", remainder)"
   ]
  },
  {
   "cell_type": "markdown",
   "id": "7baab6af-0eb4-46e5-8877-5f4df690b8ff",
   "metadata": {},
   "source": [
    "Your turn:<br>\n",
    "1. compute the quotient when dividing x by y <br>\n",
    "2. print the result to the screen <br>\n",
    "[solution the result is 2, NOT 2.0] <br>\n",
    "note: you are free to create variable(s) to store the result <br>\n",
    "hint: use operator // (NOT /) when dividing x by y"
   ]
  },
  {
   "cell_type": "code",
   "execution_count": 12,
   "id": "689e9b33-41b9-48b4-83df-fe93a06be200",
   "metadata": {},
   "outputs": [],
   "source": [
    "#put your code here\n"
   ]
  }
 ],
 "metadata": {
  "kernelspec": {
   "display_name": "Python 3 (ipykernel)",
   "language": "python",
   "name": "python3"
  },
  "language_info": {
   "codemirror_mode": {
    "name": "ipython",
    "version": 3
   },
   "file_extension": ".py",
   "mimetype": "text/x-python",
   "name": "python",
   "nbconvert_exporter": "python",
   "pygments_lexer": "ipython3",
   "version": "3.9.12"
  }
 },
 "nbformat": 4,
 "nbformat_minor": 5
}
