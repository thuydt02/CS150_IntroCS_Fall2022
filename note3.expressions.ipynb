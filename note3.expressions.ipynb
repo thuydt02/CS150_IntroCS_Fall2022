{
 "cells": [
  {
   "cell_type": "markdown",
   "id": "54fb32d2-a8da-4d03-b034-f92625392a96",
   "metadata": {},
   "source": [
    "<b><font size = 20> Expression </font></b>"
   ]
  },
  {
   "cell_type": "markdown",
   "id": "1f1bac6b-0a30-417c-b1a3-302f2b33853d",
   "metadata": {},
   "source": [
    "2x + y is an expression, here x and y are numbers. You should try different values to x and y in the following code "
   ]
  },
  {
   "cell_type": "code",
   "execution_count": 8,
   "id": "9e1099ee-560d-4a0d-825b-0796b1eee970",
   "metadata": {},
   "outputs": [
    {
     "name": "stdout",
     "output_type": "stream",
     "text": [
      "2x + y =  20\n"
     ]
    }
   ],
   "source": [
    "x, y = 5, 10\n",
    "print(\"2x + y = \", 2*x + y)"
   ]
  },
  {
   "cell_type": "markdown",
   "id": "0ca23d33-79db-4402-91d3-d0bf7b01846d",
   "metadata": {},
   "source": [
    "Expressions can have functions.<br>\n",
    "We will call several mathematical built-in functions in the following code. To call those functions, we need to import a library, namely math.<br> \n",
    "We will compute the following expressions\n",
    "1. $5 + sine(x) + \\sqrt{x}$ <br>\n",
    "2. $e^x + x^y + log(x)$\n",
    "3. $x \\geq 5$ and $x \\leq 10$"
   ]
  },
  {
   "cell_type": "code",
   "execution_count": 11,
   "id": "bcbc089b-a76b-4abf-a37d-cd680499ec8a",
   "metadata": {},
   "outputs": [
    {
     "name": "stdout",
     "output_type": "stream",
     "text": [
      "t =  6.277143702836652\n",
      "t =  9765775.022597015\n",
      "t =  True\n"
     ]
    }
   ],
   "source": [
    "import math\n",
    "\n",
    "#1\n",
    "t = 5 + math.sin(x) + math.sqrt(x)\n",
    "print(\"t = \", t)\n",
    "\n",
    "#2\n",
    "t = math.exp(x) + x**y + math.log(x)\n",
    "print(\"t = \", t)\n",
    "\n",
    "#3\n",
    "t = (x >= 5) and (x <= 10)\n",
    "print(\"t = \", t)"
   ]
  },
  {
   "cell_type": "markdown",
   "id": "1d9f781c-4137-469e-a92e-0a2db232f481",
   "metadata": {},
   "source": [
    "your turn:<br>\n",
    "compute the following expressions:<br>\n",
    "1. $5 + 8!$ <br>\n",
    "2. $cosine(x) + y$ <br>\n",
    "3. $not (x < y)$ <br>\n",
    "Note: functions can be found here https://docs.python.org/3/library/math.html"
   ]
  },
  {
   "cell_type": "code",
   "execution_count": null,
   "id": "d47992de-0ace-4895-9dd6-0340503abf64",
   "metadata": {},
   "outputs": [],
   "source": []
  }
 ],
 "metadata": {
  "kernelspec": {
   "display_name": "Python 3 (ipykernel)",
   "language": "python",
   "name": "python3"
  },
  "language_info": {
   "codemirror_mode": {
    "name": "ipython",
    "version": 3
   },
   "file_extension": ".py",
   "mimetype": "text/x-python",
   "name": "python",
   "nbconvert_exporter": "python",
   "pygments_lexer": "ipython3",
   "version": "3.9.12"
  }
 },
 "nbformat": 4,
 "nbformat_minor": 5
}
